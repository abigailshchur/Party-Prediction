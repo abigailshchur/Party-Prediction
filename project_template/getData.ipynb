{
 "cells": [
  {
   "cell_type": "code",
   "execution_count": 4,
   "metadata": {
    "collapsed": false
   },
   "outputs": [],
   "source": [
    "import tweepy\n",
    "import csv"
   ]
  },
  {
   "cell_type": "code",
   "execution_count": 5,
   "metadata": {
    "collapsed": true
   },
   "outputs": [],
   "source": [
    "#Twitter API credentials\n",
    "consumer_key = \"\"\n",
    "consumer_secret = \"\"\n",
    "access_key = \"\"\n",
    "access_secret = \"\"\n",
    "\n",
    "\n",
    "def get_all_tweets(user_id, folder = './'):\n",
    "    #Twitter only allows access to a users most recent 3240 tweets with this method\n",
    "    \n",
    "    #authorize twitter, initialize tweepy\n",
    "    auth = tweepy.OAuthHandler(consumer_key, consumer_secret)\n",
    "    auth.set_access_token(access_key, access_secret)\n",
    "    api = tweepy.API(auth)\n",
    "    \n",
    "    #initialize a list to hold all the tweepy Tweets\n",
    "    alltweets = []  \n",
    "    \n",
    "    #make initial request for most recent tweets (200 is the maximum allowed count)\n",
    "    new_tweets = api.user_timeline(user_id = user_id,count=200)\n",
    "    \n",
    "    #save most recent tweets\n",
    "    alltweets.extend(new_tweets)\n",
    "    \n",
    "    #save the id of the oldest tweet less one\n",
    "    oldest = alltweets[-1].id - 1\n",
    "    \n",
    "    #keep grabbing tweets until there are no tweets left to grab\n",
    "    while len(new_tweets) > 0:\n",
    "        print \"getting tweets before %s\" % (oldest)\n",
    "        \n",
    "        #all subsiquent requests use the max_id param to prevent duplicates\n",
    "        new_tweets = api.user_timeline(user_id = user_id,count=200,max_id=oldest)\n",
    "        \n",
    "        #save most recent tweets\n",
    "        alltweets.extend(new_tweets)\n",
    "        \n",
    "        #update the id of the oldest tweet less one\n",
    "        oldest = alltweets[-1].id - 1\n",
    "        \n",
    "        print \"...%s tweets downloaded so far\" % (len(alltweets))\n",
    "    \n",
    "    #transform the tweepy tweets into a 2D array that will populate the csv \n",
    "    outtweets = [[tweet.id_str, tweet.created_at, tweet.text.encode(\"utf-8\")] for tweet in alltweets]\n",
    "    \n",
    "    #write the csv  \n",
    "    with open('%s/%s_tweets.csv' % (folder, user_id), 'wb') as f:\n",
    "        writer = csv.writer(f)\n",
    "        writer.writerow([\"id\",\"created_at\",\"text\"])\n",
    "        writer.writerows(outtweets)\n",
    "    \n",
    "    pass"
   ]
  },
  {
   "cell_type": "code",
   "execution_count": 6,
   "metadata": {
    "collapsed": false,
    "scrolled": true
   },
   "outputs": [
    {
     "name": "stdout",
     "output_type": "stream",
     "text": [
      "getting tweets before 709592458401816576\n",
      "...393 tweets downloaded so far\n",
      "getting tweets before 704769025000263681\n",
      "...587 tweets downloaded so far\n",
      "getting tweets before 701437415047700481\n",
      "...785 tweets downloaded so far\n",
      "getting tweets before 696881322858573825\n",
      "...979 tweets downloaded so far\n",
      "getting tweets before 692558816592920575\n",
      "...1170 tweets downloaded so far\n",
      "getting tweets before 689097658976317443\n",
      "...1370 tweets downloaded so far\n",
      "getting tweets before 683377290282156031\n",
      "...1570 tweets downloaded so far\n",
      "getting tweets before 678904742198820863\n",
      "...1770 tweets downloaded so far\n",
      "getting tweets before 675297372642148351\n",
      "...1970 tweets downloaded so far\n",
      "getting tweets before 672403077597560831\n",
      "...2170 tweets downloaded so far\n",
      "getting tweets before 668209110400303103\n",
      "...2370 tweets downloaded so far\n",
      "getting tweets before 664787273184108544\n",
      "...2570 tweets downloaded so far\n",
      "getting tweets before 661555742193922049\n",
      "...2770 tweets downloaded so far\n",
      "getting tweets before 659207594150506495\n",
      "...2970 tweets downloaded so far\n",
      "getting tweets before 655871274200211455\n",
      "...3170 tweets downloaded so far\n",
      "getting tweets before 653925585585053695\n",
      "...3191 tweets downloaded so far\n",
      "getting tweets before 653708210692603903\n",
      "...3191 tweets downloaded so far\n"
     ]
    }
   ],
   "source": [
    "get_all_tweets(25073877, './tweets')"
   ]
  },
  {
   "cell_type": "code",
   "execution_count": null,
   "metadata": {
    "collapsed": true
   },
   "outputs": [],
   "source": []
  }
 ],
 "metadata": {
  "kernelspec": {
   "display_name": "Python 2",
   "language": "python",
   "name": "python2"
  },
  "language_info": {
   "codemirror_mode": {
    "name": "ipython",
    "version": 2
   },
   "file_extension": ".py",
   "mimetype": "text/x-python",
   "name": "python",
   "nbconvert_exporter": "python",
   "pygments_lexer": "ipython2",
   "version": "2.7.11"
  }
 },
 "nbformat": 4,
 "nbformat_minor": 0
}
